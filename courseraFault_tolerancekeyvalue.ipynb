{
  "nbformat": 4,
  "nbformat_minor": 0,
  "metadata": {
    "colab": {
      "provenance": [],
      "authorship_tag": "ABX9TyPnPVS/1RGlBWE9SrfLY7+w",
      "include_colab_link": true
    },
    "kernelspec": {
      "name": "python3",
      "display_name": "Python 3"
    },
    "language_info": {
      "name": "python"
    }
  },
  "cells": [
    {
      "cell_type": "markdown",
      "metadata": {
        "id": "view-in-github",
        "colab_type": "text"
      },
      "source": [
        "<a href=\"https://colab.research.google.com/github/Nikita-hub6377/coursera/blob/main/courseraFault_tolerancekeyvalue.ipynb\" target=\"_parent\"><img src=\"https://colab.research.google.com/assets/colab-badge.svg\" alt=\"Open In Colab\"/></a>"
      ]
    },
    {
      "cell_type": "code",
      "source": [
        "MAX_NNB: 10\n",
        "CRUD_TEST: 'CREATE' # Enclose CREATE in quotes to make it a string literal"
      ],
      "metadata": {
        "id": "osoAkxXHGPq4"
      },
      "execution_count": 4,
      "outputs": []
    },
    {
      "cell_type": "code",
      "source": [],
      "metadata": {
        "id": "S_vp0HrLGSFw"
      },
      "execution_count": null,
      "outputs": []
    }
  ]
}